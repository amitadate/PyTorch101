{
 "cells": [
  {
   "cell_type": "code",
   "execution_count": 1,
   "metadata": {},
   "outputs": [],
   "source": [
    "from __future__ import print_function\n",
    "\n",
    "import numpy as np\n",
    "\n",
    "import torch\n",
    "import torch.nn as nn\n",
    "from torch.autograd import Variable\n",
    "import torch.optim as optim\n",
    "\n",
    "import PIL\n",
    "from PIL import Image\n",
    "import matplotlib.pyplot as plt\n",
    "\n",
    "import torchvision.transforms as transforms\n",
    "import torchvision.models as models\n",
    "import torchvision.utils as utils"
   ]
  },
  {
   "cell_type": "code",
   "execution_count": 2,
   "metadata": {},
   "outputs": [],
   "source": [
    "use_cuda = torch.cuda.is_available()\n",
    "dtype = torch.cuda.FloatTensor if use_cuda else torch.FloatTensor"
   ]
  },
  {
   "cell_type": "code",
   "execution_count": 3,
   "metadata": {},
   "outputs": [
    {
     "name": "stderr",
     "output_type": "stream",
     "text": [
      "/home/hemant/anaconda3/lib/python3.6/site-packages/torch/cuda/__init__.py:87: UserWarning: \n",
      "    Found GPU0 GeForce GTX 1060 with Max-Q Design which requires CUDA_VERSION >= 8000 for\n",
      "     optimal performance and fast startup time, but your PyTorch was compiled\n",
      "     with CUDA_VERSION 7050. Please install the correct PyTorch binary\n",
      "     using instructions from http://pytorch.org\n",
      "    \n",
      "  warnings.warn(error_str % (d, name, 8000, CUDA_VERSION))\n"
     ]
    }
   ],
   "source": [
    "imsize = 300  # desired size of the output image\n",
    "\n",
    "loader = transforms.Compose([\n",
    "    transforms.Resize(imsize),  # scale imported image\n",
    "    transforms.ToTensor()])  # transform it into a torch tensor\n",
    "\n",
    "\n",
    "def image_loader(image_name):\n",
    "    image = Image.open(image_name)\n",
    "    image = Variable(loader(image))\n",
    "    # fake batch dimension required to fit network's input dimensions\n",
    "    image = image.unsqueeze(0)\n",
    "    return image\n",
    "\n",
    "\n",
    "style = image_loader(\"data/style/images/picasso.jpg\").type(dtype)\n",
    "content = image_loader(\"data/style/images/dancing.jpg\").type(dtype)"
   ]
  },
  {
   "cell_type": "code",
   "execution_count": 4,
   "metadata": {},
   "outputs": [],
   "source": [
    "unloader = transforms.ToPILImage()  # reconvert into PIL image\n",
    "\n",
    "\n",
    "def imshow(tensor):\n",
    "    image = tensor.clone().cpu()  # we clone the tensor to not do changes on it\n",
    "    image = image.view(3, imsize, imsize)  # remove the fake batch dimension\n",
    "    image = unloader(image)\n",
    "    plt.imshow(image)\n",
    "\n",
    "\n",
    "fig = plt.figure()\n",
    "\n",
    "plt.subplot(221)\n",
    "imshow(style.data)\n",
    "plt.subplot(222)\n",
    "imshow(content.data)"
   ]
  },
  {
   "cell_type": "code",
   "execution_count": 5,
   "metadata": {},
   "outputs": [],
   "source": [
    "class ContentLoss(nn.Module):\n",
    "    def __init__(self, target, weight):\n",
    "        super(ContentLoss, self).__init__()\n",
    "        # we 'detach' the target content from the tree used\n",
    "        self.target = target.detach() * weight\n",
    "        # to dynamically compute the gradient: this is a stated value,\n",
    "        # not a variable. Otherwise the forward method of the criterion\n",
    "        # will throw an error.\n",
    "        self.weight = weight\n",
    "        self.criterion = nn.MSELoss()\n",
    "\n",
    "    def forward(self, input):\n",
    "        self.loss = self.criterion.forward(input * self.weight, self.target)\n",
    "        self.output = input\n",
    "        return self.output\n",
    "\n",
    "    def backward(self, retain_variables=True):\n",
    "        self.loss.backward(retain_variables=retain_variables)\n",
    "        return self.loss"
   ]
  },
  {
   "cell_type": "code",
   "execution_count": 6,
   "metadata": {},
   "outputs": [],
   "source": [
    "class GramMatrix(nn.Module):\n",
    "    def forward(self, input):\n",
    "        a, b, c, d = input.size()  # a=batch size(=1)\n",
    "        # b=number of feature maps\n",
    "        # (c,d)=dimensions of a f. map (N=c*d)\n",
    "\n",
    "        features = input.view(a * b, c * d)  # resise F_XL into \\hat F_XL\n",
    "\n",
    "        G = torch.mm(features, features.t())  # compute the gram product\n",
    "\n",
    "        # we 'normalize' the values of the gram matrix\n",
    "        # by dividing by the number of element in each feature maps.\n",
    "        return G.div(a * b * c * d)"
   ]
  },
  {
   "cell_type": "code",
   "execution_count": 7,
   "metadata": {},
   "outputs": [],
   "source": [
    "class StyleLoss(nn.Module):\n",
    "    def __init__(self, target, weight):\n",
    "        super(StyleLoss, self).__init__()\n",
    "        self.target = target.detach() * weight\n",
    "        self.weight = weight\n",
    "        self.gram = GramMatrix()\n",
    "        self.criterion = nn.MSELoss()\n",
    "\n",
    "    def forward(self, input):\n",
    "        self.output = input.clone()\n",
    "        self.G = self.gram.forward(input)\n",
    "        self.G.mul_(self.weight)\n",
    "        self.loss = self.criterion.forward(self.G, self.target)\n",
    "        return self.output\n",
    "\n",
    "    def backward(self, retain_variables=True):\n",
    "        self.loss.backward(retain_variables=retain_variables)\n",
    "        return self.loss"
   ]
  },
  {
   "cell_type": "code",
   "execution_count": 8,
   "metadata": {},
   "outputs": [],
   "source": [
    "cnn = models.vgg19(pretrained=True).features\n",
    "\n",
    "# move it to the GPU if possible:\n",
    "if use_cuda:\n",
    "    cnn = cnn.cuda()"
   ]
  },
  {
   "cell_type": "code",
   "execution_count": 9,
   "metadata": {},
   "outputs": [],
   "source": [
    "# desired depth layers to compute style/content losses :\n",
    "content_layers = ['conv_4']\n",
    "style_layers = ['conv_1', 'conv_2', 'conv_3', 'conv_4', 'conv_5']\n",
    "\n",
    "# just in order to have an iterable access to or list of content/syle losses\n",
    "content_losses = []\n",
    "style_losses = []\n",
    "\n",
    "model = nn.Sequential()  # the new Sequential module network\n",
    "gram = GramMatrix()  # we need a gram module in order to compute style targets\n",
    "\n",
    "# move these modules to the GPU if possible:\n",
    "if use_cuda:\n",
    "    model = model.cuda()\n",
    "    gram = gram.cuda()\n",
    "\n",
    "# weigth associated with content and style losses\n",
    "content_weight = 1\n",
    "style_weight = 1000\n",
    "\n",
    "i = 1\n",
    "for layer in list(cnn):\n",
    "    if isinstance(layer, nn.Conv2d):\n",
    "        name = \"conv_\" + str(i)\n",
    "        model.add_module(name, layer)\n",
    "\n",
    "        if name in content_layers:\n",
    "            # add content loss:\n",
    "            target = model.forward(content).clone()\n",
    "            content_loss = ContentLoss(target, content_weight)\n",
    "            model.add_module(\"content_loss_\" + str(i), content_loss)\n",
    "            content_losses.append(content_loss)\n",
    "\n",
    "        if name in style_layers:\n",
    "            # add style loss:\n",
    "            target_feature = model.forward(style).clone()\n",
    "            target_feature_gram = gram.forward(target_feature)\n",
    "            style_loss = StyleLoss(target_feature_gram, style_weight)\n",
    "            model.add_module(\"style_loss_\" + str(i), style_loss)\n",
    "            style_losses.append(style_loss)\n",
    "\n",
    "    if isinstance(layer, nn.ReLU):\n",
    "        name = \"relu_\" + str(i)\n",
    "        model.add_module(name, layer)\n",
    "\n",
    "        if name in content_layers:\n",
    "            # add content loss:\n",
    "            target = model.forward(content).clone()\n",
    "            content_loss = ContentLoss(target, content_weight)\n",
    "            model.add_module(\"content_loss_\" + str(i), content_loss)\n",
    "            content_losses.append(content_loss)\n",
    "\n",
    "        if name in style_layers:\n",
    "            # add style loss:\n",
    "            target_feature = model.forward(style).clone()\n",
    "            target_feature_gram = gram.forward(target_feature)\n",
    "            style_loss = StyleLoss(target_feature_gram, style_weight)\n",
    "            model.add_module(\"style_loss_\" + str(i), style_loss)\n",
    "            style_losses.append(style_loss)\n",
    "\n",
    "        i += 1\n",
    "\n",
    "    if isinstance(layer, nn.MaxPool2d):\n",
    "        name = \"pool_\" + str(i)\n",
    "        model.add_module(name, layer)  # ***"
   ]
  },
  {
   "cell_type": "code",
   "execution_count": 10,
   "metadata": {},
   "outputs": [],
   "source": [
    "input = image_loader(\"data/style/images/dancing.jpg\").type(dtype)\n",
    "# if we want to fill it with a white noise:\n",
    "# input.data = torch.randn(input.data.size()).type(dtype)"
   ]
  },
  {
   "cell_type": "code",
   "execution_count": 11,
   "metadata": {},
   "outputs": [],
   "source": [
    "input = nn.Parameter(input.data)\n",
    "optimizer = optim.LBFGS([input])"
   ]
  },
  {
   "cell_type": "code",
   "execution_count": 12,
   "metadata": {
    "scrolled": true
   },
   "outputs": [
    {
     "name": "stderr",
     "output_type": "stream",
     "text": [
      "/home/hemant/anaconda3/lib/python3.6/site-packages/torch/autograd/__init__.py:93: UserWarning: retain_variables option is deprecated and will be removed in 0.3. Use retain_graph instead.\n",
      "  warnings.warn(\"retain_variables option is deprecated and will be removed in 0.3. \"\n"
     ]
    },
    {
     "name": "stdout",
     "output_type": "stream",
     "text": [
      "run [20]:\n",
      "Style Score 1.199528694152832\n",
      "Content Score 0.5053161382675171\n",
      "run [40]:\n",
      "Style Score 0.44749122858047485\n",
      "Content Score 0.5068288445472717\n",
      "run [60]:\n",
      "Style Score 0.1090926080942154\n",
      "Content Score 0.44670867919921875\n",
      "run [80]:\n",
      "Style Score 0.08128548413515091\n",
      "Content Score 0.39733797311782837\n",
      "run [100]:\n",
      "Style Score 0.07413546741008759\n",
      "Content Score 0.3781569302082062\n",
      "run [120]:\n",
      "Style Score 0.06666716933250427\n",
      "Content Score 0.370294451713562\n",
      "run [140]:\n",
      "Style Score 0.060261912643909454\n",
      "Content Score 0.36542126536369324\n",
      "run [160]:\n",
      "Style Score 0.05664947256445885\n",
      "Content Score 0.36162543296813965\n",
      "run [180]:\n",
      "Style Score 0.05452726408839226\n",
      "Content Score 0.35872653126716614\n",
      "run [200]:\n",
      "Style Score 0.05321198329329491\n",
      "Content Score 0.35607895255088806\n",
      "run [220]:\n",
      "Style Score 0.052331313490867615\n",
      "Content Score 0.3545096814632416\n",
      "run [240]:\n",
      "Style Score 0.052406713366508484\n",
      "Content Score 0.3525090515613556\n",
      "run [260]:\n",
      "Style Score 0.05172044038772583\n",
      "Content Score 0.35160213708877563\n",
      "run [280]:\n",
      "Style Score 0.05155341327190399\n",
      "Content Score 0.3506091237068176\n",
      "run [300]:\n",
      "Style Score 0.05106693506240845\n",
      "Content Score 0.3501434028148651\n",
      "run [320]:\n",
      "Style Score 0.05109994485974312\n",
      "Content Score 0.3493422865867615\n"
     ]
    },
    {
     "data": {
      "text/plain": [
       "\n",
       "( 0 , 0 ,.,.) = \n",
       "  0.0745  0.0827  0.0951  ...   0.0609  0.0147  0.0646\n",
       "  0.0830  0.0716  0.2149  ...   0.0770  0.0664  0.0523\n",
       "  0.1092  0.0885  0.1556  ...   0.0453  0.0631  0.0237\n",
       "           ...             ⋱             ...          \n",
       "  0.0000  0.0642  0.1046  ...   0.1686  0.2040  0.0000\n",
       "  0.0491  0.1038  0.1914  ...   0.1963  0.2117  0.1080\n",
       "  0.0000  0.0000  0.0000  ...   0.1154  0.2223  0.1328\n",
       "\n",
       "( 0 , 1 ,.,.) = \n",
       "  0.2559  0.3020  0.1424  ...   0.1255  0.0957  0.1799\n",
       "  0.2057  0.1462  0.1634  ...   0.1064  0.0859  0.1643\n",
       "  0.2397  0.1520  0.1383  ...   0.0944  0.0914  0.2080\n",
       "           ...             ⋱             ...          \n",
       "  0.0500  0.2300  0.1775  ...   0.2215  0.2143  0.2703\n",
       "  0.1089  0.1983  0.1330  ...   0.1972  0.1826  0.2881\n",
       "  0.0000  0.1623  0.0964  ...   0.1768  0.1919  0.1825\n",
       "\n",
       "( 0 , 2 ,.,.) = \n",
       "  0.2420  0.3149  0.2122  ...   0.1733  0.1666  0.1786\n",
       "  0.1509  0.0961  0.2062  ...   0.0926  0.0795  0.1064\n",
       "  0.1734  0.1311  0.2637  ...   0.1511  0.1082  0.1589\n",
       "           ...             ⋱             ...          \n",
       "  0.1559  0.1797  0.2786  ...   0.2424  0.1924  0.1931\n",
       "  0.1991  0.0600  0.1206  ...   0.2200  0.1926  0.2067\n",
       "  0.0263  0.3528  0.2124  ...   0.2433  0.2367  0.1684\n",
       "[torch.cuda.FloatTensor of size 1x3x300x300 (GPU 0)]"
      ]
     },
     "execution_count": 12,
     "metadata": {},
     "output_type": "execute_result"
    }
   ],
   "source": [
    "run = [0]\n",
    "while run[0] <= 300:\n",
    "\n",
    "    def closure():\n",
    "        # correct the values of updated input image\n",
    "        input.data.clamp_(0, 1)\n",
    "\n",
    "        optimizer.zero_grad()\n",
    "        model.forward(input)\n",
    "        style_score = 0\n",
    "        content_score = 0\n",
    "\n",
    "        for sl in style_losses:\n",
    "            style_score += sl.backward()\n",
    "        for cl in content_losses:\n",
    "            content_score += cl.backward()\n",
    "\n",
    "        run[0]+=1\n",
    "        if run[0] % 20 == 0:\n",
    "            print(\"run \" + str(run) + \":\")\n",
    "            print(\"Style Score\",style_score.data[0])\n",
    "            print(\"Content Score\",content_score.data[0])\n",
    "\n",
    "        return content_score+style_score\n",
    "\n",
    "    optimizer.step(closure)\n",
    "\n",
    "# a last correction...\n",
    "input.data.clamp_(0, 1)"
   ]
  },
  {
   "cell_type": "code",
   "execution_count": 13,
   "metadata": {},
   "outputs": [
    {
     "data": {
      "image/png": "[encoded data removed]",
      "text/plain": [
       "<matplotlib.figure.Figure at 0x7f1deef26940>"
      ]
     },
     "metadata": {},
     "output_type": "display_data"
    }
   ],
   "source": [
    "imshow(input.data)\n",
    "plt.show()"
   ]
  },
  {
   "cell_type": "code",
   "execution_count": 14,
   "metadata": {},
   "outputs": [],
   "source": [
    "utils.save_image(input.data,'data/style/images/generated.png')"
   ]
  }
 ],
 "metadata": {
  "kernelspec": {
   "display_name": "Python 3",
   "language": "python",
   "name": "python3"
  },
  "language_info": {
   "codemirror_mode": {
    "name": "ipython",
    "version": 3
   },
   "file_extension": ".py",
   "mimetype": "text/x-python",
   "name": "python",
   "nbconvert_exporter": "python",
   "pygments_lexer": "ipython3",
   "version": "3.6.3"
  }
 },
 "nbformat": 4,
 "nbformat_minor": 2
}
